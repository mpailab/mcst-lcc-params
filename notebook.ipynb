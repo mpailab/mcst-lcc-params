{
 "nbformat": 4,
 "nbformat_minor": 2,
 "metadata": {
  "language_info": {
   "name": "python",
   "codemirror_mode": {
    "name": "ipython",
    "version": 3
   },
   "version": "3.7.3"
  },
  "orig_nbformat": 2,
  "file_extension": ".py",
  "mimetype": "text/x-python",
  "name": "python",
  "npconvert_exporter": "python",
  "pygments_lexer": "ipython3",
  "version": 3
 },
 "cells": [
  {
   "cell_type": "code",
   "execution_count": 5,
   "metadata": {},
   "outputs": [
    {
     "name": "stdout",
     "output_type": "stream",
     "text": "{'a': 10, 'b': 20, 'c': 30}\n[('a', 10), ('b', 20), ('c', 30)]\n{'a': 0, 'b': 1, 'c': 2}\n0: a -> 10\n1: b -> 20\n2: c -> 30\n"
    }
   ],
   "source": [
    "from itertools import count\n",
    "h = { 'a': 10, 'b': 20, 'c': 30 }\n",
    "print(h)\n",
    "print(list(h.items()))\n",
    "print(dict(zip(h.keys(),count())))\n",
    "for i, k in enumerate(list(h.keys())):\n",
    "    print(str(i) + \": \" + k + \" -> \" + str(h[k]))"
   ]
  },
  {
   "cell_type": "code",
   "execution_count": 10,
   "metadata": {},
   "outputs": [
    {
     "name": "stdout",
     "output_type": "stream",
     "text": "1 2\n4 5\n"
    }
   ],
   "source": [
    "a = [ (1,2,3), (4,5,6) ]\n",
    "for i, j, _ in a:\n",
    "    print(str(i), str(j))"
   ]
  },
  {
   "cell_type": "code",
   "execution_count": 15,
   "metadata": {},
   "outputs": [
    {
     "name": "stdout",
     "output_type": "stream",
     "text": "[['0' '3' 'True' '22' '1' '0' '7.25' '0']\n ['1' '1' 'False' '38' '1' '0' '71.2833' '1']\n ['1' '3' 'False' '26' '0' '0' '7.925' '0']\n ['1' '1' 'False' '35' '1' '0' '53.1' '0']\n ['0' '3' 'True' '35' '0' '0' '8.05' '0']]\n[[ 0.      3.      1.     22.      1.      0.      7.25    0.    ]\n [ 1.      1.      0.     38.      1.      0.     71.2833  1.    ]\n [ 1.      3.      0.     26.      0.      0.      7.925   0.    ]\n [ 1.      1.      0.     35.      1.      0.     53.1     0.    ]\n [ 0.      3.      1.     35.      0.      0.      8.05    0.    ]]\n"
    }
   ],
   "source": [
    "import numpy as np\n",
    "\n",
    "def boolstr_to_floatstr(v):\n",
    "    if v == 'True':\n",
    "        return '1'\n",
    "    elif v == 'False':\n",
    "        return '0'\n",
    "    else:\n",
    "        return v\n",
    "\n",
    "data = np.array([['0', '3', 'True', '22', '1', '0', '7.25', '0'],\n",
    "        ['1', '1', 'False', '38', '1', '0', '71.2833', '1'],\n",
    "        ['1', '3', 'False', '26', '0', '0', '7.925', '0'],\n",
    "        ['1', '1', 'False', '35', '1', '0', '53.1', '0'],\n",
    "        ['0', '3', 'True', '35', '0', '0', '8.05', '0']])\n",
    "print(data)\n",
    "\n",
    "new_data = np.vectorize(boolstr_to_floatstr)(data).astype(float)\n",
    "print(new_data)"
   ]
  },
  {
   "cell_type": "code",
   "execution_count": 18,
   "metadata": {},
   "outputs": [
    {
     "name": "stdout",
     "output_type": "stream",
     "text": "[{1: 11, 2: 22}, {2: 22}]\nNone\n"
    }
   ],
   "source": [
    "from functools import reduce\n",
    "\n",
    "a = [{1 : 11}, {2 : 22}]\n",
    "b = reduce(lambda x, y: x.update(y), a)\n",
    "print(a)\n",
    "print(b)"
   ]
  },
  {
   "cell_type": "code",
   "execution_count": 20,
   "metadata": {},
   "outputs": [
    {
     "data": {
      "text/plain": "array([0, 0, 0, 0, 0, 0, 0, 0], dtype=int8)"
     },
     "execution_count": 20,
     "metadata": {},
     "output_type": "execute_result"
    }
   ],
   "source": [
    "import numpy as np\n",
    "\n",
    "N = 8\n",
    "mask = np.array([0, 1, 0, 1, 0, 1, 1, 1])\n",
    "d = [1, 0, 1, 0, 0]\n",
    "u = np.zeros(N, dtype=np.int8)\n",
    "u[mask == 1] = d\n",
    "u"
   ]
  },
  {
   "cell_type": "markdown",
   "execution_count": null,
   "metadata": {},
   "outputs": [],
   "source": []
  }
 ]
}